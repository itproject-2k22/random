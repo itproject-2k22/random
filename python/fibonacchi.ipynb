{
 "cells": [
  {
   "cell_type": "code",
   "execution_count": 3,
   "metadata": {},
   "outputs": [],
   "source": [
    "def fibonacci(n, init=1):\n",
    "    array =[init]\n",
    "    for i in range(n-1):\n",
    "        if i==0:\n",
    "            array.append(array[i])\n",
    "            continue\n",
    "        array.append(array[i]+array[i-1])\n",
    "    return array"
   ]
  },
  {
   "cell_type": "code",
   "execution_count": 7,
   "metadata": {},
   "outputs": [],
   "source": [
    "def triangleN(data):\n",
    "    status = True\n",
    "    row = 1\n",
    "    index= 0\n",
    "    while status == True:\n",
    "        for i in range(row):\n",
    "            print(data[index], end='\\t')\n",
    "            index = index + 1\n",
    "            if index == len(data):\n",
    "                status = False\n",
    "                break\n",
    "        print('\\n')\n",
    "        row = row+1"
   ]
  },
  {
   "cell_type": "code",
   "execution_count": 10,
   "metadata": {},
   "outputs": [
    {
     "name": "stdout",
     "output_type": "stream",
     "text": [
      "1\t\n",
      "\n",
      "1\t2\t\n",
      "\n",
      "3\t5\t8\t\n",
      "\n",
      "13\t21\t34\t55\t\n",
      "\n",
      "89\t144\t233\t377\t610\t\n",
      "\n",
      "987\t1597\t2584\t4181\t6765\t\n",
      "\n"
     ]
    }
   ],
   "source": [
    "triangleN(fibonacci(20))"
   ]
  }
 ],
 "metadata": {
  "kernelspec": {
   "display_name": "Python 3",
   "language": "python",
   "name": "python3"
  },
  "language_info": {
   "codemirror_mode": {
    "name": "ipython",
    "version": 3
   },
   "file_extension": ".py",
   "mimetype": "text/x-python",
   "name": "python",
   "nbconvert_exporter": "python",
   "pygments_lexer": "ipython3",
   "version": "3.11.5"
  }
 },
 "nbformat": 4,
 "nbformat_minor": 2
}
