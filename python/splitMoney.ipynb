{
 "cells": [
  {
   "cell_type": "code",
   "execution_count": 6,
   "metadata": {},
   "outputs": [],
   "source": [
    "def splitMoney(nominal):\n",
    "    m100 = nominal//100\n",
    "    nominal = nominal - m100*100\n",
    "    m50 = nominal // 50\n",
    "    nominal = nominal - m50 *50\n",
    "    m20 = nominal // 20\n",
    "    nominal = nominal - m20*20\n",
    "    m10 = nominal // 10\n",
    "    nominal = nominal - m10 *10\n",
    "    m5 = nominal // 5\n",
    "    nominal = nominal - m5*5\n",
    "    m2 = nominal // 2\n",
    "    nominal = nominal - m2*2\n",
    "    m1 = nominal // 1\n",
    "    print('100 :',m100)\n",
    "    print('50 :',m50)\n",
    "    print('20 :',m20)\n",
    "    print('10 :',m10)\n",
    "    print('5 :',m5)\n",
    "    print('2 :',m2)\n",
    "    print('1 :',m1)\n",
    "    "
   ]
  },
  {
   "cell_type": "code",
   "execution_count": 8,
   "metadata": {},
   "outputs": [
    {
     "name": "stdout",
     "output_type": "stream",
     "text": [
      "100 : 1\n",
      "50 : 1\n",
      "20 : 0\n",
      "10 : 0\n",
      "5 : 1\n",
      "2 : 2\n",
      "1 : 0\n"
     ]
    }
   ],
   "source": [
    "splitMoney(159)"
   ]
  }
 ],
 "metadata": {
  "kernelspec": {
   "display_name": "Python 3",
   "language": "python",
   "name": "python3"
  },
  "language_info": {
   "codemirror_mode": {
    "name": "ipython",
    "version": 3
   },
   "file_extension": ".py",
   "mimetype": "text/x-python",
   "name": "python",
   "nbconvert_exporter": "python",
   "pygments_lexer": "ipython3",
   "version": "3.11.5"
  }
 },
 "nbformat": 4,
 "nbformat_minor": 2
}
