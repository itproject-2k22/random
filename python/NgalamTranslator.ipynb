{
 "cells": [
  {
   "cell_type": "code",
   "execution_count": 99,
   "metadata": {},
   "outputs": [],
   "source": [
    "def reverseWord(word):\n",
    "    reversed_word = \"\"\n",
    "    for char in word:\n",
    "        reversed_word = char.lower() + reversed_word\n",
    "    return reversed_word"
   ]
  },
  {
   "cell_type": "code",
   "execution_count": 98,
   "metadata": {},
   "outputs": [],
   "source": [
    "def reverseSentence(sentence):\n",
    "    words = sentence.split()\n",
    "    for i in range(len(words)):\n",
    "        words[i] = reverseWord(words[i])\n",
    "    for i in words:\n",
    "        print(i, end=\" \")"
   ]
  },
  {
   "cell_type": "code",
   "execution_count": 107,
   "metadata": {},
   "outputs": [
    {
     "ename": "SyntaxError",
     "evalue": "unterminated string literal (detected at line 1) (3360871195.py, line 1)",
     "output_type": "error",
     "traceback": [
      "\u001b[1;36m  Cell \u001b[1;32mIn[107], line 1\u001b[1;36m\u001b[0m\n\u001b[1;33m    reverseSentence('太酷了，这意味着您不必按照网站上的方法操作，信息不错，但已经懒得更改了 :('')\u001b[0m\n\u001b[1;37m                                                            ^\u001b[0m\n\u001b[1;31mSyntaxError\u001b[0m\u001b[1;31m:\u001b[0m unterminated string literal (detected at line 1)\n"
     ]
    }
   ],
   "source": [
    "reverseSentence('太酷了，这意味着您不必按照网站上的方法操作，信息不错，但已经懒得更改了 :('')"
   ]
  }
 ],
 "metadata": {
  "kernelspec": {
   "display_name": "Python 3",
   "language": "python",
   "name": "python3"
  },
  "language_info": {
   "codemirror_mode": {
    "name": "ipython",
    "version": 3
   },
   "file_extension": ".py",
   "mimetype": "text/x-python",
   "name": "python",
   "nbconvert_exporter": "python",
   "pygments_lexer": "ipython3",
   "version": "3.11.5"
  }
 },
 "nbformat": 4,
 "nbformat_minor": 2
}
